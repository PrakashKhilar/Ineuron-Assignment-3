{
 "cells": [
  {
   "cell_type": "markdown",
   "id": "6977f844",
   "metadata": {},
   "source": [
    "# Ineuron Assignment 3"
   ]
  },
  {
   "cell_type": "code",
   "execution_count": null,
   "id": "93357f18",
   "metadata": {},
   "outputs": [],
   "source": [
    "# Question 1: Why are functions advantageous to have in your programs?"
   ]
  },
  {
   "cell_type": "code",
   "execution_count": 1,
   "id": "471d8765",
   "metadata": {},
   "outputs": [],
   "source": [
    "# Answer : \n",
    "# Python Function is a piece of code or any logic that performs the specific operation. \n",
    "# We already saw some methods until now, and you may not notice them. For instance, print(), factorial(), round(), etc.\n",
    "# It helps to divide the large programs into small groups so that we can read the code, and debug the program faster and better.\n",
    "# Python Functions stop us from writing the same logic various times. \n",
    "# We can bind the logic in one def and then call the same over and over.\n",
    "# It help us to call the same function with different inputs over multiple times."
   ]
  },
  {
   "cell_type": "code",
   "execution_count": 1,
   "id": "9b52eb1a",
   "metadata": {},
   "outputs": [],
   "source": [
    "# Question 2 : When does the code in a function run: when it's specified or when it's called?"
   ]
  },
  {
   "cell_type": "code",
   "execution_count": 3,
   "id": "4b1ff12e",
   "metadata": {},
   "outputs": [],
   "source": [
    "# Answer: \n",
    "# When the function is called then the code of function run."
   ]
  },
  {
   "cell_type": "code",
   "execution_count": 4,
   "id": "8adcb527",
   "metadata": {},
   "outputs": [],
   "source": [
    "# Question 3: What statement creates a function ?"
   ]
  },
  {
   "cell_type": "code",
   "execution_count": 5,
   "id": "68fc1c28",
   "metadata": {},
   "outputs": [],
   "source": [
    "# Answer:\n",
    "# Python includes many built-in functions. \n",
    "# These functions perform a predefined task and can be called upon in any program, as per requirement.\n",
    "# However, if you don't find a suitable built-in function to serve your purpose, you can define one.\n",
    "# We will now see how to define and use a function in a Python program.\n",
    "\n",
    "# Syntax of Function\n",
    "def function_name(parameters):\n",
    "\t\"\"\"docstring\"\"\"\n",
    "\tstatement(s)\n",
    "    \n",
    "# Above shown is a function definition that consists of the following components.\n",
    "\n",
    "# a. Keyword def that marks the start of the function header.\n",
    "# b. A function name to uniquely identify the function. Function naming follows the same rules of writing identifiers in Python.\n",
    "# c. Parameters (arguments) through which we pass values to a function. They are optional.\n",
    "# d. A colon (:) to mark the end of the function header.\n",
    "# e. Optional documentation string (docstring) to describe what the function does.\n",
    "# f. One or more valid python statements that make up the function body. Statements must have the same indentation level (usually 4 spaces).\n",
    "# g. An optional return statement to return a value from the function.\n",
    "\n",
    "# Example:\n",
    "def Ineuron (python):\n",
    "    \"\"\"\n",
    "    This is the 5th online class and we are\n",
    "    currently studing about function \n",
    "    in python\n",
    "    \"\"\"\n",
    "    print(\"My first\" + \" \" + python + \" python function!\")"
   ]
  },
  {
   "cell_type": "code",
   "execution_count": 24,
   "id": "ee492eb1",
   "metadata": {},
   "outputs": [],
   "source": [
    "def Ineuron(python):\n",
    "    \"\"\"\n",
    "    This is the 5th online class and we are\n",
    "    currently studing about function \n",
    "    in python\n",
    "    \"\"\"\n",
    "    print(\"My first\" + \" \" + python + \" python function!\")"
   ]
  },
  {
   "cell_type": "code",
   "execution_count": 25,
   "id": "7d2379f6",
   "metadata": {},
   "outputs": [
    {
     "name": "stdout",
     "output_type": "stream",
     "text": [
      "My first hello python function!\n"
     ]
    }
   ],
   "source": [
    "Ineuron('hello')"
   ]
  },
  {
   "cell_type": "code",
   "execution_count": 26,
   "id": "6ce5e8ab",
   "metadata": {},
   "outputs": [],
   "source": [
    "# Question 4: What is the difference between a function and a function call ?"
   ]
  },
  {
   "cell_type": "code",
   "execution_count": null,
   "id": "71a72f0f",
   "metadata": {},
   "outputs": [],
   "source": [
    "# Answer :\n",
    "# A function is a block of code that does a particular operation and returns a result.\n",
    "# It usually accepts inputs as parameters and returns a result. The parameters are not mandatory.\n",
    "\n",
    "# Using a function to do a particular task any point in program is called as function call.\n",
    "# So the difference between the function and function call is,\n",
    "# A function is procedure to achieve a particular result while function call is using this function to achive that task.\n",
    "\n",
    "# Example:\n",
    "Function add(a,b) # Function Defination \n",
    "return a + b\n",
    "\n",
    "# A function call is the code used to pass control to a function.\n",
    "b = add(5,6)  # Fucntion call"
   ]
  },
  {
   "cell_type": "code",
   "execution_count": null,
   "id": "8e32f93c",
   "metadata": {},
   "outputs": [],
   "source": [
    "# Question 5 : How many global scopes are there in a Python program? How many local scopes?"
   ]
  },
  {
   "cell_type": "code",
   "execution_count": null,
   "id": "4d70ca00",
   "metadata": {},
   "outputs": [],
   "source": [
    "# Answer :\n",
    "#There's only one global Python scope per program execution\n",
    "\n",
    "# There can be any number of local Python scope per program execution"
   ]
  },
  {
   "cell_type": "code",
   "execution_count": 28,
   "id": "e9340d04",
   "metadata": {},
   "outputs": [],
   "source": [
    "# Question 6 : What happens to variables in a local scope when the function call returns ?"
   ]
  },
  {
   "cell_type": "code",
   "execution_count": null,
   "id": "0f5e7052",
   "metadata": {},
   "outputs": [],
   "source": [
    "# Answer :\n",
    "# A local variable retains its value until the next time the function is called.\n",
    "# A local variable becomes undefined after the function call completes.\n",
    "# The local variable can be used outside the function any time after the function call completes."
   ]
  },
  {
   "cell_type": "code",
   "execution_count": null,
   "id": "4b38ac72",
   "metadata": {},
   "outputs": [],
   "source": [
    "# Question 7: What is the concept of a return value? Is it possible to have a return value in an expression?"
   ]
  },
  {
   "cell_type": "code",
   "execution_count": null,
   "id": "a6919bc7",
   "metadata": {},
   "outputs": [],
   "source": [
    "# Answer :\n",
    "# The Python return statement is a key component of functions and methods. You can use the return statement to make your functions send Python objects back to the caller code. \n",
    "# These objects are known as the function’s return value. You can use them to perform further computation in your programs.\n",
    "\n",
    "# Using the return statement effectively is a core skill if you want to code custom functions that are Pythonic and robust.\n",
    "\n",
    "# And, yes it is possible to have a return value in an expression"
   ]
  },
  {
   "cell_type": "code",
   "execution_count": null,
   "id": "fa6896c6",
   "metadata": {},
   "outputs": [],
   "source": [
    "# Question 8: If a function does not have a return statement, what is the return value of a call to that function?"
   ]
  },
  {
   "cell_type": "code",
   "execution_count": 40,
   "id": "8d234f76",
   "metadata": {},
   "outputs": [
    {
     "name": "stdout",
     "output_type": "stream",
     "text": [
      "Ineuron\n",
      "None\n"
     ]
    }
   ],
   "source": [
    "# Answer :\n",
    "\n",
    "# If no return statement appears in a function definition, control automatically returns to the calling function after the last statement of the called function is executed. \n",
    "# In this case, the return value of the called function is undefined.\n",
    "\n",
    "# Example;\n",
    "\n",
    "def fun(): \n",
    "    print (\"Ineuron\")\n",
    "print(fun())"
   ]
  },
  {
   "cell_type": "code",
   "execution_count": null,
   "id": "9c15f411",
   "metadata": {},
   "outputs": [],
   "source": [
    "# Question 9 : How do you make a function variable refer to the global variable?"
   ]
  },
  {
   "cell_type": "code",
   "execution_count": 5,
   "id": "98b49625",
   "metadata": {},
   "outputs": [
    {
     "name": "stdout",
     "output_type": "stream",
     "text": [
      "Python is Ineuronfisrt online class\n"
     ]
    }
   ],
   "source": [
    "# Anser : \n",
    "# Variables that are created outside of a function are known as global variables.\n",
    "# Global variables can be used by everyone, both inside of functions and outside.\n",
    "\n",
    "# To create a global variable inside a function, you can use the global keyword.\n",
    "# Example :\n",
    "\n",
    "def fun():\n",
    "  global i\n",
    "  i = \"Ineuron\"\n",
    "\n",
    "fun()\n",
    "\n",
    "print(\"Python is \" + i + '' + \"fisrt online class\")"
   ]
  },
  {
   "cell_type": "code",
   "execution_count": null,
   "id": "79176d14",
   "metadata": {},
   "outputs": [],
   "source": [
    "# Question 10 : What is the data type of None?"
   ]
  },
  {
   "cell_type": "code",
   "execution_count": 10,
   "id": "19a7dc29",
   "metadata": {},
   "outputs": [
    {
     "name": "stdout",
     "output_type": "stream",
     "text": [
      "None\n"
     ]
    }
   ],
   "source": [
    "# Answer:\n",
    "# None is a data type of its own (NoneType)\n",
    "# Example;\n",
    "# None = var # None can not be assign.\n",
    "var = None # # Declaring a None variable\n",
    "\n",
    "if var is None: # Checking if the variable is None\n",
    "  print(\"None\")\n",
    "else:\n",
    "  print(\"Not None\")"
   ]
  },
  {
   "cell_type": "code",
   "execution_count": 7,
   "id": "6f5204c7",
   "metadata": {},
   "outputs": [
    {
     "data": {
      "text/plain": [
       "NoneType"
      ]
     },
     "execution_count": 7,
     "metadata": {},
     "output_type": "execute_result"
    }
   ],
   "source": [
    "type(None)"
   ]
  },
  {
   "cell_type": "code",
   "execution_count": null,
   "id": "93a0708a",
   "metadata": {},
   "outputs": [],
   "source": [
    "# Question 11. What does the sentence import areallyourpetsnamederic do?"
   ]
  },
  {
   "cell_type": "code",
   "execution_count": 11,
   "id": "f67802de",
   "metadata": {},
   "outputs": [
    {
     "ename": "ModuleNotFoundError",
     "evalue": "No module named 'areallyourpetsnamederic'",
     "output_type": "error",
     "traceback": [
      "\u001b[1;31m---------------------------------------------------------------------------\u001b[0m",
      "\u001b[1;31mModuleNotFoundError\u001b[0m                       Traceback (most recent call last)",
      "Input \u001b[1;32mIn [11]\u001b[0m, in \u001b[0;36m<cell line: 4>\u001b[1;34m()\u001b[0m\n\u001b[0;32m      1\u001b[0m \u001b[38;5;66;03m# Answer :\u001b[39;00m\n\u001b[0;32m      2\u001b[0m \u001b[38;5;66;03m# It will import the libaray name areallyourpetsnamederic\u001b[39;00m\n\u001b[1;32m----> 4\u001b[0m \u001b[38;5;28;01mimport\u001b[39;00m \u001b[38;5;21;01mareallyourpetsnamederic\u001b[39;00m\n",
      "\u001b[1;31mModuleNotFoundError\u001b[0m: No module named 'areallyourpetsnamederic'"
     ]
    }
   ],
   "source": [
    "# Answer :\n",
    "# It will import the libaray name areallyourpetsnamederic\n",
    "\n",
    "import areallyourpetsnamederic"
   ]
  },
  {
   "cell_type": "code",
   "execution_count": 5,
   "id": "35475ea4",
   "metadata": {},
   "outputs": [],
   "source": [
    "# Question 12 : If you had a bacon() feature in a spam module, what would you call it after importing spam?"
   ]
  },
  {
   "cell_type": "code",
   "execution_count": 12,
   "id": "21341076",
   "metadata": {},
   "outputs": [
    {
     "ename": "NameError",
     "evalue": "name 'bacon' is not defined",
     "output_type": "error",
     "traceback": [
      "\u001b[1;31m---------------------------------------------------------------------------\u001b[0m",
      "\u001b[1;31mNameError\u001b[0m                                 Traceback (most recent call last)",
      "Input \u001b[1;32mIn [12]\u001b[0m, in \u001b[0;36m<cell line: 3>\u001b[1;34m()\u001b[0m\n\u001b[0;32m      1\u001b[0m \u001b[38;5;66;03m# Answer : \u001b[39;00m\n\u001b[0;32m      2\u001b[0m \u001b[38;5;66;03m# This function can be called with spam.bacon().\u001b[39;00m\n\u001b[1;32m----> 3\u001b[0m \u001b[43mbacon\u001b[49m()\n",
      "\u001b[1;31mNameError\u001b[0m: name 'bacon' is not defined"
     ]
    }
   ],
   "source": [
    "# Answer : \n",
    "# This function can be called with spam.bacon().\n",
    "bacon()"
   ]
  },
  {
   "cell_type": "code",
   "execution_count": 13,
   "id": "f2cf340b",
   "metadata": {},
   "outputs": [
    {
     "ename": "NameError",
     "evalue": "name 'spam' is not defined",
     "output_type": "error",
     "traceback": [
      "\u001b[1;31m---------------------------------------------------------------------------\u001b[0m",
      "\u001b[1;31mNameError\u001b[0m                                 Traceback (most recent call last)",
      "Input \u001b[1;32mIn [13]\u001b[0m, in \u001b[0;36m<cell line: 1>\u001b[1;34m()\u001b[0m\n\u001b[1;32m----> 1\u001b[0m \u001b[43mspam\u001b[49m\u001b[38;5;241m.\u001b[39mbacon()\n",
      "\u001b[1;31mNameError\u001b[0m: name 'spam' is not defined"
     ]
    }
   ],
   "source": [
    "spam.bacon()"
   ]
  },
  {
   "cell_type": "code",
   "execution_count": null,
   "id": "ae48bf67",
   "metadata": {},
   "outputs": [],
   "source": [
    "# Question 13 : What can you do to save a programme from crashing if it encounters an error?"
   ]
  },
  {
   "cell_type": "code",
   "execution_count": 4,
   "id": "dad6c79b",
   "metadata": {},
   "outputs": [
    {
     "ename": "SyntaxError",
     "evalue": "invalid syntax (242478740.py, line 15)",
     "output_type": "error",
     "traceback": [
      "\u001b[1;36m  Input \u001b[1;32mIn [4]\u001b[1;36m\u001b[0m\n\u001b[1;33m    print addNumbers('', 10)\u001b[0m\n\u001b[1;37m          ^\u001b[0m\n\u001b[1;31mSyntaxError\u001b[0m\u001b[1;31m:\u001b[0m invalid syntax\n"
     ]
    }
   ],
   "source": [
    "# Answer :\n",
    "# In Python, we use the try and except statements to handle exceptions.\n",
    "# Whenever the code breaks down, an exception is thrown without crashing the program. \n",
    "\n",
    "# Python would process all code inside the try and except statement. \n",
    "# When it encounters an error, the control is passed to the except block, skipping the code in between.\n",
    "\n",
    "# Example;\n",
    "def addNumbers(a, b):\n",
    "    try:\n",
    "        return a + b\n",
    "    except Exception as e:\n",
    "        return 'Error occurred : ' + str(e)\n",
    " \n",
    "print addNumbers('', 10)"
   ]
  },
  {
   "cell_type": "code",
   "execution_count": null,
   "id": "2715a143",
   "metadata": {},
   "outputs": [],
   "source": [
    "# Question 14 : What is the purpose of the try clause? What is the purpose of the except clause?"
   ]
  },
  {
   "cell_type": "code",
   "execution_count": null,
   "id": "3efb6023",
   "metadata": {},
   "outputs": [],
   "source": [
    "# Answer :\n",
    "# Error in Python can be of two types i.e. Syntax errors and Exceptions. \n",
    "# Errors are the problems in a program due to which the program will stop the execution. \n",
    "# On the other hand, exceptions are raised when some internal events occur which changes the normal flow of the program.\n",
    "\n",
    "# The try block lets you test a block of code for errors. \n",
    "# The except block lets you handle the error. \n",
    "# The else block lets you execute code when there is no error. \n",
    "\n",
    "#The finally block lets you execute code, regardless of the result of the try- and except blocks.\n",
    "\n",
    "# Examaple :\n",
    "try:\n",
    "  print(x)\n",
    "except:\n",
    "  print(\"An exception occurred\")"
   ]
  }
 ],
 "metadata": {
  "kernelspec": {
   "display_name": "Python 3 (ipykernel)",
   "language": "python",
   "name": "python3"
  },
  "language_info": {
   "codemirror_mode": {
    "name": "ipython",
    "version": 3
   },
   "file_extension": ".py",
   "mimetype": "text/x-python",
   "name": "python",
   "nbconvert_exporter": "python",
   "pygments_lexer": "ipython3",
   "version": "3.9.12"
  }
 },
 "nbformat": 4,
 "nbformat_minor": 5
}
